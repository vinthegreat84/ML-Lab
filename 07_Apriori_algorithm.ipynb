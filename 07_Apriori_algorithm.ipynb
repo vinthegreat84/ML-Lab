{
  "nbformat": 4,
  "nbformat_minor": 0,
  "metadata": {
    "colab": {
      "provenance": [],
      "authorship_tag": "ABX9TyPH32I1/KlJ5bcxTlVdT9mZ",
      "include_colab_link": true
    },
    "kernelspec": {
      "name": "python3",
      "display_name": "Python 3"
    },
    "language_info": {
      "name": "python"
    }
  },
  "cells": [
    {
      "cell_type": "markdown",
      "metadata": {
        "id": "view-in-github",
        "colab_type": "text"
      },
      "source": [
        "<a href=\"https://colab.research.google.com/github/vinthegreat84/ML-Lab/blob/main/07_Apriori_algorithm.ipynb\" target=\"_parent\"><img src=\"https://colab.research.google.com/assets/colab-badge.svg\" alt=\"Open In Colab\"/></a>"
      ]
    },
    {
      "cell_type": "code",
      "execution_count": 9,
      "metadata": {
        "id": "IUBY30Jdmew_"
      },
      "outputs": [],
      "source": [
        "import pandas as pd\n",
        "from mlxtend.preprocessing import TransactionEncoder\n",
        "from mlxtend.frequent_patterns import apriori"
      ]
    },
    {
      "cell_type": "code",
      "source": [
        "# Read in data\n",
        "link = 'https://raw.githubusercontent.com/vinthegreat84/ML-Lab/main/data/drilling.csv'\n",
        "df = pd.read_csv(link)\n",
        "df.head()"
      ],
      "metadata": {
        "colab": {
          "base_uri": "https://localhost:8080/",
          "height": 250
        },
        "id": "745Hq5QYz6-n",
        "outputId": "42f3998e-1b15-4bdc-c218-c25123cc0bdf"
      },
      "execution_count": 10,
      "outputs": [
        {
          "output_type": "execute_result",
          "data": {
            "text/plain": [
              "   Depth_(m)  Bit Size_(inch)  Bit_Type  Weight_on_Bit  Bit_Rotation_(RPM)  \\\n",
              "0       18.0             26.0         1            3.5                35.0   \n",
              "1       20.0             26.0         1            3.5                35.0   \n",
              "2     1093.0             17.5         3            0.0                 0.0   \n",
              "3     1163.0             17.5         1            0.0                 0.0   \n",
              "4     3083.0              8.5         3            0.0                 0.0   \n",
              "\n",
              "   Mud_Weight(pcf)  Flow_Rate(gpm)  Pump_Pressure_(psia)  \\\n",
              "0             65.0             100                     0   \n",
              "1             65.0             100                   200   \n",
              "2             76.0               0                     0   \n",
              "3             80.0               0                     0   \n",
              "4             80.0               0                     0   \n",
              "\n",
              "   Rate_of_Penetration_ROP_(M/H)  \n",
              "0                           0.20  \n",
              "1                           2.50  \n",
              "2                           1.63  \n",
              "3                           1.77  \n",
              "4                           1.17  "
            ],
            "text/html": [
              "\n",
              "  <div id=\"df-938fc891-6b26-439f-aca0-abba21374ce6\">\n",
              "    <div class=\"colab-df-container\">\n",
              "      <div>\n",
              "<style scoped>\n",
              "    .dataframe tbody tr th:only-of-type {\n",
              "        vertical-align: middle;\n",
              "    }\n",
              "\n",
              "    .dataframe tbody tr th {\n",
              "        vertical-align: top;\n",
              "    }\n",
              "\n",
              "    .dataframe thead th {\n",
              "        text-align: right;\n",
              "    }\n",
              "</style>\n",
              "<table border=\"1\" class=\"dataframe\">\n",
              "  <thead>\n",
              "    <tr style=\"text-align: right;\">\n",
              "      <th></th>\n",
              "      <th>Depth_(m)</th>\n",
              "      <th>Bit Size_(inch)</th>\n",
              "      <th>Bit_Type</th>\n",
              "      <th>Weight_on_Bit</th>\n",
              "      <th>Bit_Rotation_(RPM)</th>\n",
              "      <th>Mud_Weight(pcf)</th>\n",
              "      <th>Flow_Rate(gpm)</th>\n",
              "      <th>Pump_Pressure_(psia)</th>\n",
              "      <th>Rate_of_Penetration_ROP_(M/H)</th>\n",
              "    </tr>\n",
              "  </thead>\n",
              "  <tbody>\n",
              "    <tr>\n",
              "      <th>0</th>\n",
              "      <td>18.0</td>\n",
              "      <td>26.0</td>\n",
              "      <td>1</td>\n",
              "      <td>3.5</td>\n",
              "      <td>35.0</td>\n",
              "      <td>65.0</td>\n",
              "      <td>100</td>\n",
              "      <td>0</td>\n",
              "      <td>0.20</td>\n",
              "    </tr>\n",
              "    <tr>\n",
              "      <th>1</th>\n",
              "      <td>20.0</td>\n",
              "      <td>26.0</td>\n",
              "      <td>1</td>\n",
              "      <td>3.5</td>\n",
              "      <td>35.0</td>\n",
              "      <td>65.0</td>\n",
              "      <td>100</td>\n",
              "      <td>200</td>\n",
              "      <td>2.50</td>\n",
              "    </tr>\n",
              "    <tr>\n",
              "      <th>2</th>\n",
              "      <td>1093.0</td>\n",
              "      <td>17.5</td>\n",
              "      <td>3</td>\n",
              "      <td>0.0</td>\n",
              "      <td>0.0</td>\n",
              "      <td>76.0</td>\n",
              "      <td>0</td>\n",
              "      <td>0</td>\n",
              "      <td>1.63</td>\n",
              "    </tr>\n",
              "    <tr>\n",
              "      <th>3</th>\n",
              "      <td>1163.0</td>\n",
              "      <td>17.5</td>\n",
              "      <td>1</td>\n",
              "      <td>0.0</td>\n",
              "      <td>0.0</td>\n",
              "      <td>80.0</td>\n",
              "      <td>0</td>\n",
              "      <td>0</td>\n",
              "      <td>1.77</td>\n",
              "    </tr>\n",
              "    <tr>\n",
              "      <th>4</th>\n",
              "      <td>3083.0</td>\n",
              "      <td>8.5</td>\n",
              "      <td>3</td>\n",
              "      <td>0.0</td>\n",
              "      <td>0.0</td>\n",
              "      <td>80.0</td>\n",
              "      <td>0</td>\n",
              "      <td>0</td>\n",
              "      <td>1.17</td>\n",
              "    </tr>\n",
              "  </tbody>\n",
              "</table>\n",
              "</div>\n",
              "      <button class=\"colab-df-convert\" onclick=\"convertToInteractive('df-938fc891-6b26-439f-aca0-abba21374ce6')\"\n",
              "              title=\"Convert this dataframe to an interactive table.\"\n",
              "              style=\"display:none;\">\n",
              "        \n",
              "  <svg xmlns=\"http://www.w3.org/2000/svg\" height=\"24px\"viewBox=\"0 0 24 24\"\n",
              "       width=\"24px\">\n",
              "    <path d=\"M0 0h24v24H0V0z\" fill=\"none\"/>\n",
              "    <path d=\"M18.56 5.44l.94 2.06.94-2.06 2.06-.94-2.06-.94-.94-2.06-.94 2.06-2.06.94zm-11 1L8.5 8.5l.94-2.06 2.06-.94-2.06-.94L8.5 2.5l-.94 2.06-2.06.94zm10 10l.94 2.06.94-2.06 2.06-.94-2.06-.94-.94-2.06-.94 2.06-2.06.94z\"/><path d=\"M17.41 7.96l-1.37-1.37c-.4-.4-.92-.59-1.43-.59-.52 0-1.04.2-1.43.59L10.3 9.45l-7.72 7.72c-.78.78-.78 2.05 0 2.83L4 21.41c.39.39.9.59 1.41.59.51 0 1.02-.2 1.41-.59l7.78-7.78 2.81-2.81c.8-.78.8-2.07 0-2.86zM5.41 20L4 18.59l7.72-7.72 1.47 1.35L5.41 20z\"/>\n",
              "  </svg>\n",
              "      </button>\n",
              "      \n",
              "  <style>\n",
              "    .colab-df-container {\n",
              "      display:flex;\n",
              "      flex-wrap:wrap;\n",
              "      gap: 12px;\n",
              "    }\n",
              "\n",
              "    .colab-df-convert {\n",
              "      background-color: #E8F0FE;\n",
              "      border: none;\n",
              "      border-radius: 50%;\n",
              "      cursor: pointer;\n",
              "      display: none;\n",
              "      fill: #1967D2;\n",
              "      height: 32px;\n",
              "      padding: 0 0 0 0;\n",
              "      width: 32px;\n",
              "    }\n",
              "\n",
              "    .colab-df-convert:hover {\n",
              "      background-color: #E2EBFA;\n",
              "      box-shadow: 0px 1px 2px rgba(60, 64, 67, 0.3), 0px 1px 3px 1px rgba(60, 64, 67, 0.15);\n",
              "      fill: #174EA6;\n",
              "    }\n",
              "\n",
              "    [theme=dark] .colab-df-convert {\n",
              "      background-color: #3B4455;\n",
              "      fill: #D2E3FC;\n",
              "    }\n",
              "\n",
              "    [theme=dark] .colab-df-convert:hover {\n",
              "      background-color: #434B5C;\n",
              "      box-shadow: 0px 1px 3px 1px rgba(0, 0, 0, 0.15);\n",
              "      filter: drop-shadow(0px 1px 2px rgba(0, 0, 0, 0.3));\n",
              "      fill: #FFFFFF;\n",
              "    }\n",
              "  </style>\n",
              "\n",
              "      <script>\n",
              "        const buttonEl =\n",
              "          document.querySelector('#df-938fc891-6b26-439f-aca0-abba21374ce6 button.colab-df-convert');\n",
              "        buttonEl.style.display =\n",
              "          google.colab.kernel.accessAllowed ? 'block' : 'none';\n",
              "\n",
              "        async function convertToInteractive(key) {\n",
              "          const element = document.querySelector('#df-938fc891-6b26-439f-aca0-abba21374ce6');\n",
              "          const dataTable =\n",
              "            await google.colab.kernel.invokeFunction('convertToInteractive',\n",
              "                                                     [key], {});\n",
              "          if (!dataTable) return;\n",
              "\n",
              "          const docLinkHtml = 'Like what you see? Visit the ' +\n",
              "            '<a target=\"_blank\" href=https://colab.research.google.com/notebooks/data_table.ipynb>data table notebook</a>'\n",
              "            + ' to learn more about interactive tables.';\n",
              "          element.innerHTML = '';\n",
              "          dataTable['output_type'] = 'display_data';\n",
              "          await google.colab.output.renderOutput(dataTable, element);\n",
              "          const docLink = document.createElement('div');\n",
              "          docLink.innerHTML = docLinkHtml;\n",
              "          element.appendChild(docLink);\n",
              "        }\n",
              "      </script>\n",
              "    </div>\n",
              "  </div>\n",
              "  "
            ]
          },
          "metadata": {},
          "execution_count": 10
        }
      ]
    },
    {
      "cell_type": "code",
      "source": [
        "# Convert the dataframe to a list of lists, where each list represents a transaction\n",
        "transaction_list = df.values.tolist()\n",
        "\n",
        "# Use the TransactionEncoder to convert the transactions into a binary format\n",
        "te = TransactionEncoder()\n",
        "te_ary = te.fit(transaction_list).transform(transaction_list)\n",
        "df = pd.DataFrame(te_ary, columns=te.columns_)\n",
        "\n",
        "# Use the apriori algorithm to find frequent itemsets\n",
        "frequent_itemsets = apriori(df, min_support=0.3, use_colnames=True)\n",
        "\n",
        "# Print the frequent itemsets\n",
        "print(frequent_itemsets)"
      ],
      "metadata": {
        "colab": {
          "base_uri": "https://localhost:8080/"
        },
        "id": "v_JLztxa0D31",
        "outputId": "81ca013e-f797-4b03-c1d2-5f21925caa5f"
      },
      "execution_count": 11,
      "outputs": [
        {
          "output_type": "stream",
          "name": "stdout",
          "text": [
            "   support      itemsets\n",
            "0     0.60         (0.0)\n",
            "1     0.30         (2.0)\n",
            "2     0.55         (3.0)\n",
            "3     0.30         (8.5)\n",
            "4     0.40       (12.25)\n",
            "5     0.40  (0.0, 12.25)\n",
            "6     0.30    (8.5, 3.0)\n"
          ]
        }
      ]
    },
    {
      "cell_type": "code",
      "source": [
        "from mlxtend.frequent_patterns import association_rules\n",
        "\n",
        "# Generate the association rules\n",
        "association_rules = association_rules(frequent_itemsets, metric=\"lift\", min_threshold=1)\n",
        "\n",
        "# Print the association rules\n",
        "print(association_rules)"
      ],
      "metadata": {
        "colab": {
          "base_uri": "https://localhost:8080/"
        },
        "id": "GhP3QZ1s0OLL",
        "outputId": "896fd5b2-7716-422e-eb79-453656dbf9ae"
      },
      "execution_count": 12,
      "outputs": [
        {
          "output_type": "stream",
          "name": "stdout",
          "text": [
            "  antecedents consequents  antecedent support  consequent support  support  \\\n",
            "0       (0.0)     (12.25)                0.60                0.40      0.4   \n",
            "1     (12.25)       (0.0)                0.40                0.60      0.4   \n",
            "2       (8.5)       (3.0)                0.30                0.55      0.3   \n",
            "3       (3.0)       (8.5)                0.55                0.30      0.3   \n",
            "\n",
            "   confidence      lift  leverage  conviction  \n",
            "0    0.666667  1.666667     0.160        1.80  \n",
            "1    1.000000  1.666667     0.160         inf  \n",
            "2    1.000000  1.818182     0.135         inf  \n",
            "3    0.545455  1.818182     0.135        1.54  \n"
          ]
        }
      ]
    },
    {
      "cell_type": "code",
      "source": [
        "import networkx as nx\n",
        "import matplotlib.pyplot as plt\n",
        "\n",
        "G = nx.DiGraph()\n",
        "for i in range(0,len(association_rules)):\n",
        "    G.add_edge(association_rules.iloc[i]['antecedents'], association_rules.iloc[i]['consequents'], weight = association_rules.iloc[i]['confidence'])\n",
        "\n",
        "fig, ax = plt.subplots(figsize=(10, 10))\n",
        "pos = nx.spring_layout(G)\n",
        "nx.draw_networkx_nodes(G, pos, node_size=200)\n",
        "nx.draw_networkx_edges(G, pos, edge_color='r', arrows=True)\n",
        "nx.draw_networkx_labels(G, pos, font_size=12, font_family='sans-serif')\n",
        "plt.show()"
      ],
      "metadata": {
        "colab": {
          "base_uri": "https://localhost:8080/",
          "height": 575
        },
        "id": "xfwFpWwz0Xkb",
        "outputId": "1c8c3247-ff5c-4f30-d0dc-03d1c3c063bf"
      },
      "execution_count": 13,
      "outputs": [
        {
          "output_type": "display_data",
          "data": {
            "text/plain": [
              "<Figure size 720x720 with 1 Axes>"
            ],
            "image/png": "[encoded data removed]"
          },
          "metadata": {}
        }
      ]
    }
  ]
}